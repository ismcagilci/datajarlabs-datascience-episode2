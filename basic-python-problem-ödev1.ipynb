{
 "cells": [
  {
   "cell_type": "markdown",
   "metadata": {},
   "source": [
    "## Bitcoin'in iyi kazandırdığı 2017 yılı sonunda yatırım yaptığınızı farz edelim. Günlük ortalama %12 artan bitcoine 1000$ yatırmış olsaydınız bir hafta sonunda paranız ne kadar olurdu? Lütfen problemi Python kullanarak çözün."
   ]
  },
  {
   "cell_type": "code",
   "execution_count": 15,
   "metadata": {},
   "outputs": [],
   "source": [
    "#toplam para miktarı\n",
    "money = 1000\n",
    "\n",
    "#kazanılan para miktarı\n",
    "profit = 0\n",
    "\n",
    "#artış miktarı\n",
    "increase = 12\n",
    "\n",
    "day = 1"
   ]
  },
  {
   "cell_type": "code",
   "execution_count": 16,
   "metadata": {},
   "outputs": [
    {
     "name": "stdout",
     "output_type": "stream",
     "text": [
      "Başlangıç parası 1000 $\n",
      "1 gün sonunda toplam para miktarı 1120.0 $\n",
      "2 gün sonunda toplam para miktarı 1254.4 $\n",
      "3 gün sonunda toplam para miktarı 1404.928 $\n",
      "4 gün sonunda toplam para miktarı 1573.5193600000002 $\n",
      "5 gün sonunda toplam para miktarı 1762.3416832000003 $\n",
      "6 gün sonunda toplam para miktarı 1973.8226851840004 $\n",
      "7 gün sonunda toplam para miktarı 2210.6814074060803 $\n",
      "7 gün sonunda toplam 1210.68140740608 kazanıldı\n"
     ]
    }
   ],
   "source": [
    "#Day her gün arttırılarak, artış miktarı kadar para, ana para üzerine eklenicek\n",
    "print(\"Başlangıç parası 1000 $\")\n",
    "while day<8:\n",
    "    #profitin önce yazılması gerekiyor\n",
    "    profit += money * 12/100\n",
    "    money += money * 12/100\n",
    "    print(\"{} gün sonunda toplam para miktarı {} $\".format(day,money))\n",
    "    day +=1\n",
    "print(\"{} gün sonunda toplam {} kazanıldı\".format(day-1,profit))"
   ]
  },
  {
   "cell_type": "code",
   "execution_count": null,
   "metadata": {},
   "outputs": [],
   "source": []
  }
 ],
 "metadata": {
  "kernelspec": {
   "display_name": "Python 3",
   "language": "python",
   "name": "python3"
  },
  "language_info": {
   "codemirror_mode": {
    "name": "ipython",
    "version": 3
   },
   "file_extension": ".py",
   "mimetype": "text/x-python",
   "name": "python",
   "nbconvert_exporter": "python",
   "pygments_lexer": "ipython3",
   "version": "3.8.5"
  }
 },
 "nbformat": 4,
 "nbformat_minor": 4
}
